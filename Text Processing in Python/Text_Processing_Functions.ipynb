{
 "cells": [
  {
   "cell_type": "markdown",
   "id": "36420a2f",
   "metadata": {},
   "source": [
    "# Load a text file"
   ]
  },
  {
   "cell_type": "code",
   "execution_count": null,
   "id": "4460f121",
   "metadata": {},
   "outputs": [],
   "source": [
    "def load_text(filename : str):\n",
    "    try:\n",
    "        data = open(filename, \"r\",errors='ignore')\n",
    "        text = data.read()\n",
    "        return text\n",
    "    except :\n",
    "        return \"\""
   ]
  },
  {
   "cell_type": "markdown",
   "id": "e9379015",
   "metadata": {},
   "source": [
    "# Load a stopwords list file"
   ]
  },
  {
   "cell_type": "code",
   "execution_count": null,
   "id": "6de43eb9",
   "metadata": {},
   "outputs": [],
   "source": [
    "def load_stopwords(filename : str):\n",
    "    \n",
    "    try:\n",
    "        data = open(filename, \"r\",errors='ignore')\n",
    "        stopwords = data.read()\n",
    "        stopwords = stopwords.split('\\n')\n",
    "        return stopwords\n",
    "    except :\n",
    "        return \"\""
   ]
  },
  {
   "cell_type": "markdown",
   "id": "9bc697f2",
   "metadata": {},
   "source": [
    "# Remove the stopwords from a text"
   ]
  },
  {
   "cell_type": "code",
   "execution_count": null,
   "id": "614d60b6",
   "metadata": {},
   "outputs": [],
   "source": [
    "def remove_stopwords(tokens,stopwords):\n",
    "    for t in tokens:\n",
    "        for s in stopwords:\n",
    "            if t == s:\n",
    "                tokens.remove(t)\n",
    "    return tokens"
   ]
  },
  {
   "cell_type": "markdown",
   "id": "33b359ee",
   "metadata": {},
   "source": [
    "# Count the number of times a word appears in a text"
   ]
  },
  {
   "cell_type": "code",
   "execution_count": null,
   "id": "2787424f",
   "metadata": {},
   "outputs": [],
   "source": [
    "def bag_of_words(tokens):\n",
    "    result = {}\n",
    "    for t in tokens:\n",
    "        result[t]=tokens.count(t)\n",
    "    return result"
   ]
  },
  {
   "cell_type": "markdown",
   "id": "bcc41f3e",
   "metadata": {},
   "source": [
    "# Print the n words most present in a text"
   ]
  },
  {
   "cell_type": "code",
   "execution_count": null,
   "id": "206d4f35",
   "metadata": {},
   "outputs": [],
   "source": [
    "def most_frequent_words(word_bag, n):\n",
    "    counter = 0\n",
    "    words = []\n",
    "    if word_bag != {}:\n",
    "        \n",
    "        while n>counter:\n",
    "            \n",
    "            max_key = max(word_bag, key=word_bag.get)\n",
    "            words.append(max_key)\n",
    "            word_bag.pop(max_key)\n",
    "            counter = counter+1\n",
    "            if len(word_bag)==0 :\n",
    "                return words\n",
    "                \n",
    "    if word_bag == {}:\n",
    "        words = []\n",
    "    \n",
    "            \n",
    "        \n",
    "        \n",
    "    return words"
   ]
  },
  {
   "cell_type": "markdown",
   "id": "2f3e3ed4",
   "metadata": {},
   "source": [
    "# Print the n words with the most characters in a text"
   ]
  },
  {
   "cell_type": "code",
   "execution_count": null,
   "id": "5968006d",
   "metadata": {},
   "outputs": [],
   "source": [
    "def longest_words(word_bag,n):\n",
    "    counter = 0\n",
    "    words = []\n",
    "    if word_bag != {}:\n",
    "        new = list(word_bag.keys())\n",
    "        while n>counter:\n",
    "            \n",
    "            item = max(new,key=len)\n",
    "               \n",
    "                \n",
    "            \n",
    "            words.append(item)\n",
    "            new.remove(item)\n",
    "            counter = counter + 1\n",
    "            if len(new) == 0:\n",
    "                return words\n",
    "    if word_bag == {}:\n",
    "        words=[]\n",
    "        \n",
    "    return words"
   ]
  }
 ],
 "metadata": {
  "kernelspec": {
   "display_name": "Python 3",
   "language": "python",
   "name": "python3"
  },
  "language_info": {
   "codemirror_mode": {
    "name": "ipython",
    "version": 3
   },
   "file_extension": ".py",
   "mimetype": "text/x-python",
   "name": "python",
   "nbconvert_exporter": "python",
   "pygments_lexer": "ipython3",
   "version": "3.8.8"
  }
 },
 "nbformat": 4,
 "nbformat_minor": 5
}
