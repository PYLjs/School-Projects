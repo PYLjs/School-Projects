{
 "cells": [
  {
   "cell_type": "markdown",
   "metadata": {},
   "source": [
    "# Mid-term Project : Adress Book"
   ]
  },
  {
   "cell_type": "code",
   "execution_count": 20,
   "metadata": {},
   "outputs": [],
   "source": [
    "from Functions-Addressbook import search_my_information, create_account, modify_address, modify_phone"
   ]
  },
  {
   "cell_type": "markdown",
   "metadata": {},
   "source": [
    "### 1) Search information from a phone number (Validation check)"
   ]
  },
  {
   "cell_type": "code",
   "execution_count": 21,
   "metadata": {},
   "outputs": [
    {
     "name": "stdout",
     "output_type": "stream",
     "text": [
      "Enter your phone number : 0643627382\n",
      "Error, this phone number is not registered\n"
     ]
    }
   ],
   "source": [
    "phone_number = str(input(\"Enter your phone number : \"))\n",
    "print(search_my_information(phone_number))"
   ]
  },
  {
   "cell_type": "markdown",
   "metadata": {},
   "source": [
    "### 2) Create a contact from scratch"
   ]
  },
  {
   "cell_type": "code",
   "execution_count": null,
   "metadata": {},
   "outputs": [],
   "source": [
    "phone_number = str(input(\"Enter your phone number : \"))\n",
    "name = str(input(\"Enter your phone name : \"))\n",
    "first_name = str(input(\"Enter your first name : \"))\n",
    "adress = str(input(\"Enter your adress : \"))\n",
    "post_code = str(input(\"Enter your post code : \"))\n",
    "city = str(input(\"Enter your city name : \"))\n",
    "\n",
    "print(create_account(phone_number,name,\n",
    "                first_name,adress,\n",
    "                post_code,city))"
   ]
  },
  {
   "cell_type": "markdown",
   "metadata": {},
   "source": [
    "### 3) Modify my adress"
   ]
  },
  {
   "cell_type": "code",
   "execution_count": 26,
   "metadata": {},
   "outputs": [
    {
     "name": "stdout",
     "output_type": "stream",
     "text": [
      "Enter your phone number : 0624\n",
      "Enter your new address : sds\n",
      "Enter your new city : sds\n",
      "Enter your new postal code : sds\n",
      "Error, you are not registered. Create an account !\n"
     ]
    }
   ],
   "source": [
    "phone_number = str(input(\"Enter your phone number : \"))\n",
    "new_address = str(input(\"Enter your new address : \"))\n",
    "new_city = str(input(\"Enter your new city : \"))\n",
    "new_postcode = str(input(\"Enter your new postal code : \"))\n",
    "\n",
    "print(modify_address(phone_number,new_address,new_city,new_postcode))"
   ]
  },
  {
   "cell_type": "markdown",
   "metadata": {},
   "source": [
    "### 4) Modify a phone number"
   ]
  },
  {
   "cell_type": "code",
   "execution_count": null,
   "metadata": {},
   "outputs": [],
   "source": [
    "former_phone_number = str(input(\"Enter your former phone number : \"))\n",
    "new_phone_number = str(input(\"Enter your new phone number : \"))\n",
    "\n",
    "print(modify_phone(former_phone_number,new_phone_number))"
   ]
  }
 ],
 "metadata": {
  "kernelspec": {
   "display_name": "Python 3",
   "language": "python",
   "name": "python3"
  },
  "language_info": {
   "codemirror_mode": {
    "name": "ipython",
    "version": 3
   },
   "file_extension": ".py",
   "mimetype": "text/x-python",
   "name": "python",
   "nbconvert_exporter": "python",
   "pygments_lexer": "ipython3",
   "version": "3.8.3"
  }
 },
 "nbformat": 4,
 "nbformat_minor": 4
}
